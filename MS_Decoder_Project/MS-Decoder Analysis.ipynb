{
 "cells": [
  {
   "cell_type": "markdown",
   "metadata": {},
   "source": [
    "# MS-Decoder Analysis"
   ]
  },
  {
   "cell_type": "markdown",
   "metadata": {},
   "source": [
    "This Notebook's purpose is to analyze the MS-Decoder files, creating histograms for different parameters, ion series, low/high collision etc. "
   ]
  },
  {
   "cell_type": "code",
   "execution_count": 72,
   "metadata": {},
   "outputs": [
    {
     "data": {
      "text/html": [
       "<div>\n",
       "<style>\n",
       "    .dataframe thead tr:only-child th {\n",
       "        text-align: right;\n",
       "    }\n",
       "\n",
       "    .dataframe thead th {\n",
       "        text-align: left;\n",
       "    }\n",
       "\n",
       "    .dataframe tbody tr th {\n",
       "        vertical-align: top;\n",
       "    }\n",
       "</style>\n",
       "<table border=\"1\" class=\"dataframe\">\n",
       "  <thead>\n",
       "    <tr style=\"text-align: right;\">\n",
       "      <th></th>\n",
       "      <th>This is a Benchmark for the current version of the R4 decoder</th>\n",
       "      <th>Unnamed: 1</th>\n",
       "      <th>Unnamed: 2</th>\n",
       "      <th>Unnamed: 3</th>\n",
       "      <th>Unnamed: 4</th>\n",
       "      <th>Unnamed: 5</th>\n",
       "      <th>Unnamed: 6</th>\n",
       "      <th>Unnamed: 7</th>\n",
       "      <th>Unnamed: 8</th>\n",
       "      <th>Unnamed: 9</th>\n",
       "    </tr>\n",
       "  </thead>\n",
       "  <tbody>\n",
       "    <tr>\n",
       "      <th>0</th>\n",
       "      <td>This file has been generated: 2018-04-20</td>\n",
       "      <td>NaN</td>\n",
       "      <td>NaN</td>\n",
       "      <td>NaN</td>\n",
       "      <td>NaN</td>\n",
       "      <td>NaN</td>\n",
       "      <td>NaN</td>\n",
       "      <td>NaN</td>\n",
       "      <td>NaN</td>\n",
       "      <td>NaN</td>\n",
       "    </tr>\n",
       "    <tr>\n",
       "      <th>1</th>\n",
       "      <td>198 spectra have been decoded with 7 sets of p...</td>\n",
       "      <td>NaN</td>\n",
       "      <td>NaN</td>\n",
       "      <td>NaN</td>\n",
       "      <td>NaN</td>\n",
       "      <td>NaN</td>\n",
       "      <td>NaN</td>\n",
       "      <td>NaN</td>\n",
       "      <td>NaN</td>\n",
       "      <td>NaN</td>\n",
       "    </tr>\n",
       "    <tr>\n",
       "      <th>2</th>\n",
       "      <td>NaN</td>\n",
       "      <td>NaN</td>\n",
       "      <td>NaN</td>\n",
       "      <td>NaN</td>\n",
       "      <td>NaN</td>\n",
       "      <td>NaN</td>\n",
       "      <td>NaN</td>\n",
       "      <td>NaN</td>\n",
       "      <td>NaN</td>\n",
       "      <td>NaN</td>\n",
       "    </tr>\n",
       "    <tr>\n",
       "      <th>3</th>\n",
       "      <td>NaN</td>\n",
       "      <td>Paramaters # 1 m/z Tolerance: 0.05 / Int. thre...</td>\n",
       "      <td>NaN</td>\n",
       "      <td>NaN</td>\n",
       "      <td>NaN</td>\n",
       "      <td>NaN</td>\n",
       "      <td>NaN</td>\n",
       "      <td>NaN</td>\n",
       "      <td>NaN</td>\n",
       "      <td>NaN</td>\n",
       "    </tr>\n",
       "    <tr>\n",
       "      <th>4</th>\n",
       "      <td>NaN</td>\n",
       "      <td>NaN</td>\n",
       "      <td>NaN</td>\n",
       "      <td>NaN</td>\n",
       "      <td>NaN</td>\n",
       "      <td>NaN</td>\n",
       "      <td>NaN</td>\n",
       "      <td>NaN</td>\n",
       "      <td>NaN</td>\n",
       "      <td>NaN</td>\n",
       "    </tr>\n",
       "    <tr>\n",
       "      <th>5</th>\n",
       "      <td>NaN</td>\n",
       "      <td>1_AOA-197-1-High_Energy</td>\n",
       "      <td>NaN</td>\n",
       "      <td>NaN</td>\n",
       "      <td>NaN</td>\n",
       "      <td>NaN</td>\n",
       "      <td>NaN</td>\n",
       "      <td>NaN</td>\n",
       "      <td>NaN</td>\n",
       "      <td>NaN</td>\n",
       "    </tr>\n",
       "    <tr>\n",
       "      <th>6</th>\n",
       "      <td>NaN</td>\n",
       "      <td>Paramaters # 1 m/z Tolerance: 0.05 / Int. thre...</td>\n",
       "      <td>NaN</td>\n",
       "      <td>NaN</td>\n",
       "      <td>NaN</td>\n",
       "      <td>NaN</td>\n",
       "      <td>NaN</td>\n",
       "      <td>NaN</td>\n",
       "      <td>NaN</td>\n",
       "      <td>NaN</td>\n",
       "    </tr>\n",
       "    <tr>\n",
       "      <th>7</th>\n",
       "      <td>NaN</td>\n",
       "      <td>ASCII character</td>\n",
       "      <td>O</td>\n",
       "      <td>c</td>\n",
       "      <td>t</td>\n",
       "      <td>e</td>\n",
       "      <td>t</td>\n",
       "      <td>NaN</td>\n",
       "      <td>NaN</td>\n",
       "      <td>NaN</td>\n",
       "    </tr>\n",
       "    <tr>\n",
       "      <th>8</th>\n",
       "      <td>NaN</td>\n",
       "      <td>Tag on byte</td>\n",
       "      <td>0</td>\n",
       "      <td>G</td>\n",
       "      <td>A</td>\n",
       "      <td>C</td>\n",
       "      <td>T</td>\n",
       "      <td>NaN</td>\n",
       "      <td>NaN</td>\n",
       "      <td>NaN</td>\n",
       "    </tr>\n",
       "    <tr>\n",
       "      <th>9</th>\n",
       "      <td>NaN</td>\n",
       "      <td>Reference Code</td>\n",
       "      <td>01001111</td>\n",
       "      <td>01100011</td>\n",
       "      <td>01110100</td>\n",
       "      <td>01100101</td>\n",
       "      <td>01110100</td>\n",
       "      <td>NaN</td>\n",
       "      <td>NaN</td>\n",
       "      <td>NaN</td>\n",
       "    </tr>\n",
       "  </tbody>\n",
       "</table>\n",
       "</div>"
      ],
      "text/plain": [
       "  This is a Benchmark for the current version of the R4 decoder  \\\n",
       "0           This file has been generated: 2018-04-20              \n",
       "1  198 spectra have been decoded with 7 sets of p...              \n",
       "2                                                NaN              \n",
       "3                                                NaN              \n",
       "4                                                NaN              \n",
       "5                                                NaN              \n",
       "6                                                NaN              \n",
       "7                                                NaN              \n",
       "8                                                NaN              \n",
       "9                                                NaN              \n",
       "\n",
       "                                          Unnamed: 1 Unnamed: 2 Unnamed: 3  \\\n",
       "0                                                NaN        NaN        NaN   \n",
       "1                                                NaN        NaN        NaN   \n",
       "2                                                NaN        NaN        NaN   \n",
       "3  Paramaters # 1 m/z Tolerance: 0.05 / Int. thre...        NaN        NaN   \n",
       "4                                                NaN        NaN        NaN   \n",
       "5                            1_AOA-197-1-High_Energy        NaN        NaN   \n",
       "6  Paramaters # 1 m/z Tolerance: 0.05 / Int. thre...        NaN        NaN   \n",
       "7                                    ASCII character          O          c   \n",
       "8                                        Tag on byte          0          G   \n",
       "9                                     Reference Code   01001111   01100011   \n",
       "\n",
       "  Unnamed: 4 Unnamed: 5 Unnamed: 6 Unnamed: 7 Unnamed: 8 Unnamed: 9  \n",
       "0        NaN        NaN        NaN        NaN        NaN        NaN  \n",
       "1        NaN        NaN        NaN        NaN        NaN        NaN  \n",
       "2        NaN        NaN        NaN        NaN        NaN        NaN  \n",
       "3        NaN        NaN        NaN        NaN        NaN        NaN  \n",
       "4        NaN        NaN        NaN        NaN        NaN        NaN  \n",
       "5        NaN        NaN        NaN        NaN        NaN        NaN  \n",
       "6        NaN        NaN        NaN        NaN        NaN        NaN  \n",
       "7          t          e          t        NaN        NaN        NaN  \n",
       "8          A          C          T        NaN        NaN        NaN  \n",
       "9   01110100   01100101   01110100        NaN        NaN        NaN  "
      ]
     },
     "execution_count": 72,
     "metadata": {},
     "output_type": "execute_result"
    }
   ],
   "source": [
    "import pandas as pd\n",
    "\n",
    "samples = pd.read_excel('samples.xlsx', 'Isotope not necessarily lower')\n",
    "samples.iloc[:10,:10]"
   ]
  },
  {
   "cell_type": "markdown",
   "metadata": {},
   "source": [
    "This function gives us the box of cells in which a particular table of our excel file is present. For example, for parameter 1, molecule 1 and High energy, we must provide (0,0) (indexing begins from 0)."
   ]
  },
  {
   "cell_type": "code",
   "execution_count": 76,
   "metadata": {},
   "outputs": [
    {
     "data": {
      "text/html": [
       "<div>\n",
       "<style>\n",
       "    .dataframe thead tr:only-child th {\n",
       "        text-align: right;\n",
       "    }\n",
       "\n",
       "    .dataframe thead th {\n",
       "        text-align: left;\n",
       "    }\n",
       "\n",
       "    .dataframe tbody tr th {\n",
       "        vertical-align: top;\n",
       "    }\n",
       "</style>\n",
       "<table border=\"1\" class=\"dataframe\">\n",
       "  <thead>\n",
       "    <tr style=\"text-align: right;\">\n",
       "      <th></th>\n",
       "      <th>Unnamed: 1</th>\n",
       "      <th>Unnamed: 2</th>\n",
       "      <th>Unnamed: 3</th>\n",
       "      <th>Unnamed: 4</th>\n",
       "      <th>Unnamed: 5</th>\n",
       "      <th>Unnamed: 6</th>\n",
       "      <th>Unnamed: 7</th>\n",
       "      <th>Unnamed: 8</th>\n",
       "      <th>Unnamed: 9</th>\n",
       "    </tr>\n",
       "  </thead>\n",
       "  <tbody>\n",
       "    <tr>\n",
       "      <th>5</th>\n",
       "      <td>1_AOA-197-1-High_Energy</td>\n",
       "      <td>NaN</td>\n",
       "      <td>NaN</td>\n",
       "      <td>NaN</td>\n",
       "      <td>NaN</td>\n",
       "      <td>NaN</td>\n",
       "      <td>NaN</td>\n",
       "      <td>NaN</td>\n",
       "      <td>NaN</td>\n",
       "    </tr>\n",
       "    <tr>\n",
       "      <th>6</th>\n",
       "      <td>Paramaters # 1 m/z Tolerance: 0.05 / Int. thre...</td>\n",
       "      <td>NaN</td>\n",
       "      <td>NaN</td>\n",
       "      <td>NaN</td>\n",
       "      <td>NaN</td>\n",
       "      <td>NaN</td>\n",
       "      <td>NaN</td>\n",
       "      <td>NaN</td>\n",
       "      <td>NaN</td>\n",
       "    </tr>\n",
       "    <tr>\n",
       "      <th>7</th>\n",
       "      <td>ASCII character</td>\n",
       "      <td>O</td>\n",
       "      <td>c</td>\n",
       "      <td>t</td>\n",
       "      <td>e</td>\n",
       "      <td>t</td>\n",
       "      <td>NaN</td>\n",
       "      <td>NaN</td>\n",
       "      <td>NaN</td>\n",
       "    </tr>\n",
       "    <tr>\n",
       "      <th>8</th>\n",
       "      <td>Tag on byte</td>\n",
       "      <td>0</td>\n",
       "      <td>G</td>\n",
       "      <td>A</td>\n",
       "      <td>C</td>\n",
       "      <td>T</td>\n",
       "      <td>NaN</td>\n",
       "      <td>NaN</td>\n",
       "      <td>NaN</td>\n",
       "    </tr>\n",
       "    <tr>\n",
       "      <th>9</th>\n",
       "      <td>Reference Code</td>\n",
       "      <td>01001111</td>\n",
       "      <td>01100011</td>\n",
       "      <td>01110100</td>\n",
       "      <td>01100101</td>\n",
       "      <td>01110100</td>\n",
       "      <td>NaN</td>\n",
       "      <td>NaN</td>\n",
       "      <td>NaN</td>\n",
       "    </tr>\n",
       "    <tr>\n",
       "      <th>10</th>\n",
       "      <td>Series a</td>\n",
       "      <td>NaN</td>\n",
       "      <td>00011011</td>\n",
       "      <td>00101110</td>\n",
       "      <td>00011101</td>\n",
       "      <td>NaN</td>\n",
       "      <td>NaN</td>\n",
       "      <td>NaN</td>\n",
       "      <td>NaN</td>\n",
       "    </tr>\n",
       "    <tr>\n",
       "      <th>11</th>\n",
       "      <td>Series b</td>\n",
       "      <td>NaN</td>\n",
       "      <td>01100011</td>\n",
       "      <td>01110100</td>\n",
       "      <td>01100101</td>\n",
       "      <td>NaN</td>\n",
       "      <td>NaN</td>\n",
       "      <td>NaN</td>\n",
       "      <td>NaN</td>\n",
       "    </tr>\n",
       "    <tr>\n",
       "      <th>12</th>\n",
       "      <td>Series c</td>\n",
       "      <td>NaN</td>\n",
       "      <td>00000110</td>\n",
       "      <td>01010000</td>\n",
       "      <td>00001111</td>\n",
       "      <td>NaN</td>\n",
       "      <td>NaN</td>\n",
       "      <td>NaN</td>\n",
       "      <td>NaN</td>\n",
       "    </tr>\n",
       "    <tr>\n",
       "      <th>13</th>\n",
       "      <td>Series d</td>\n",
       "      <td>01001111</td>\n",
       "      <td>00110011</td>\n",
       "      <td>01010000</td>\n",
       "      <td>01010101</td>\n",
       "      <td>NaN</td>\n",
       "      <td>NaN</td>\n",
       "      <td>NaN</td>\n",
       "      <td>NaN</td>\n",
       "    </tr>\n",
       "    <tr>\n",
       "      <th>14</th>\n",
       "      <td>Series w</td>\n",
       "      <td>00111100</td>\n",
       "      <td>11010011</td>\n",
       "      <td>00011010</td>\n",
       "      <td>11011010</td>\n",
       "      <td>0</td>\n",
       "      <td>NaN</td>\n",
       "      <td>NaN</td>\n",
       "      <td>NaN</td>\n",
       "    </tr>\n",
       "    <tr>\n",
       "      <th>15</th>\n",
       "      <td>Series x</td>\n",
       "      <td>01101011</td>\n",
       "      <td>11011001</td>\n",
       "      <td>10001000</td>\n",
       "      <td>11011001</td>\n",
       "      <td>1001110</td>\n",
       "      <td>NaN</td>\n",
       "      <td>NaN</td>\n",
       "      <td>NaN</td>\n",
       "    </tr>\n",
       "    <tr>\n",
       "      <th>16</th>\n",
       "      <td>Series y</td>\n",
       "      <td>01001111</td>\n",
       "      <td>01000110</td>\n",
       "      <td>11010110</td>\n",
       "      <td>10110101</td>\n",
       "      <td>00100</td>\n",
       "      <td>NaN</td>\n",
       "      <td>NaN</td>\n",
       "      <td>NaN</td>\n",
       "    </tr>\n",
       "    <tr>\n",
       "      <th>17</th>\n",
       "      <td>Series z</td>\n",
       "      <td>01001111</td>\n",
       "      <td>11010010</td>\n",
       "      <td>10010100</td>\n",
       "      <td>10000110</td>\n",
       "      <td>10100</td>\n",
       "      <td>NaN</td>\n",
       "      <td>NaN</td>\n",
       "      <td>NaN</td>\n",
       "    </tr>\n",
       "    <tr>\n",
       "      <th>18</th>\n",
       "      <td>NaN</td>\n",
       "      <td>NaN</td>\n",
       "      <td>NaN</td>\n",
       "      <td>NaN</td>\n",
       "      <td>NaN</td>\n",
       "      <td>NaN</td>\n",
       "      <td>NaN</td>\n",
       "      <td>NaN</td>\n",
       "      <td>NaN</td>\n",
       "    </tr>\n",
       "    <tr>\n",
       "      <th>19</th>\n",
       "      <td>NaN</td>\n",
       "      <td>NaN</td>\n",
       "      <td>NaN</td>\n",
       "      <td>NaN</td>\n",
       "      <td>NaN</td>\n",
       "      <td>NaN</td>\n",
       "      <td>NaN</td>\n",
       "      <td>NaN</td>\n",
       "      <td>NaN</td>\n",
       "    </tr>\n",
       "  </tbody>\n",
       "</table>\n",
       "</div>"
      ],
      "text/plain": [
       "                                           Unnamed: 1 Unnamed: 2 Unnamed: 3  \\\n",
       "5                             1_AOA-197-1-High_Energy        NaN        NaN   \n",
       "6   Paramaters # 1 m/z Tolerance: 0.05 / Int. thre...        NaN        NaN   \n",
       "7                                     ASCII character          O          c   \n",
       "8                                         Tag on byte          0          G   \n",
       "9                                      Reference Code   01001111   01100011   \n",
       "10                                           Series a        NaN   00011011   \n",
       "11                                           Series b        NaN   01100011   \n",
       "12                                           Series c        NaN   00000110   \n",
       "13                                           Series d   01001111   00110011   \n",
       "14                                           Series w   00111100   11010011   \n",
       "15                                           Series x   01101011   11011001   \n",
       "16                                           Series y   01001111   01000110   \n",
       "17                                           Series z   01001111   11010010   \n",
       "18                                                NaN        NaN        NaN   \n",
       "19                                                NaN        NaN        NaN   \n",
       "\n",
       "   Unnamed: 4 Unnamed: 5 Unnamed: 6 Unnamed: 7 Unnamed: 8 Unnamed: 9  \n",
       "5         NaN        NaN        NaN        NaN        NaN        NaN  \n",
       "6         NaN        NaN        NaN        NaN        NaN        NaN  \n",
       "7           t          e          t        NaN        NaN        NaN  \n",
       "8           A          C          T        NaN        NaN        NaN  \n",
       "9    01110100   01100101   01110100        NaN        NaN        NaN  \n",
       "10   00101110   00011101        NaN        NaN        NaN        NaN  \n",
       "11   01110100   01100101        NaN        NaN        NaN        NaN  \n",
       "12   01010000   00001111        NaN        NaN        NaN        NaN  \n",
       "13   01010000   01010101        NaN        NaN        NaN        NaN  \n",
       "14   00011010   11011010          0        NaN        NaN        NaN  \n",
       "15   10001000   11011001    1001110        NaN        NaN        NaN  \n",
       "16   11010110   10110101      00100        NaN        NaN        NaN  \n",
       "17   10010100   10000110      10100        NaN        NaN        NaN  \n",
       "18        NaN        NaN        NaN        NaN        NaN        NaN  \n",
       "19        NaN        NaN        NaN        NaN        NaN        NaN  "
      ]
     },
     "execution_count": 76,
     "metadata": {},
     "output_type": "execute_result"
    }
   ],
   "source": [
    "# samples.iloc[5:5+15 , 1:1+9]\n",
    "def getTable(row, col):\n",
    "    r = row*16 + 5\n",
    "    c = col*10 + 1\n",
    "    return samples.iloc[r:r+15 ,  c:c+9]\n",
    "\n",
    "getTable(0,0)"
   ]
  },
  {
   "cell_type": "markdown",
   "metadata": {},
   "source": [
    "Now, we must process each block and get the histogram of that particular block. The histogram object will be of this shape: histo[tag][series]. Series will be numbered from 0-7, where 0 is for series a, and 7 is for series z."
   ]
  },
  {
   "cell_type": "code",
   "execution_count": 58,
   "metadata": {},
   "outputs": [
    {
     "data": {
      "text/plain": [
       "{'0': [0, 0, 0, 1, 0, 0, 1, 1],\n",
       " 'A': [0, 1, 0, 0, 0, 0, 0, 0],\n",
       " 'C': [0, 1, 0, 0, 0, 0, 0, 0],\n",
       " 'G': [0, 1, 0, 0, 0, 0, 0, 0],\n",
       " 'T': [0, 0, 0, 0, 0, 0, 0, 0]}"
      ]
     },
     "execution_count": 58,
     "metadata": {},
     "output_type": "execute_result"
    }
   ],
   "source": [
    "def getTableHisto(tableRow, tableCol):\n",
    "    table = getTable(tableRow, tableCol)\n",
    "    \n",
    "    histo = {}\n",
    "    \n",
    "    # Go column by column, starting from the column with tag \"0\"\n",
    "    for i in range(1, 9):\n",
    "        \n",
    "        # This means that we do not have any more tags left  \n",
    "        try:\n",
    "            if str(type(table.iloc[3,i])) == \"<type 'float'>\":\n",
    "                break\n",
    "        except:\n",
    "            print \"i=\" + str(i)\n",
    "        \n",
    "        if str(table.iloc[3,i]) == \"Tag on byte\":\n",
    "            continue\n",
    "            \n",
    "        correctCode = str(table.iloc[4,i])\n",
    "        tag = str(table.iloc[3,i])\n",
    "        histo[tag] = [0, 0, 0, 0, 0, 0, 0, 0]\n",
    "        \n",
    "        for j in range(5, 13):\n",
    "            if correctCode == table.iloc[j, i]:\n",
    "                histo[tag][j-5] += 1\n",
    "                \n",
    "    return histo\n",
    "getTableHisto(0,0)"
   ]
  },
  {
   "cell_type": "markdown",
   "metadata": {},
   "source": [
    "### Congregating the histograms from all the tables"
   ]
  },
  {
   "cell_type": "markdown",
   "metadata": {},
   "source": [
    "Call the function with j being the column of the tables we need the data for, and is_high_coll being True for high-energy collisions, False otherwise "
   ]
  },
  {
   "cell_type": "code",
   "execution_count": 59,
   "metadata": {
    "collapsed": true
   },
   "outputs": [],
   "source": [
    "import numpy as np\n",
    "def getHisto(j, is_high_coll):\n",
    "    \n",
    "    # Tables are laid out in (40 x 7)\n",
    "    finalHisto = {}\n",
    "    \n",
    "    # If high-energy collision is needed, start from 0, otherwise 1   \n",
    "    start = 1\n",
    "    if(is_high_coll):\n",
    "        start = 0\n",
    "    \n",
    "    for i in range(start, 40, 2):\n",
    "        hist = getTableHisto(i,j)\n",
    "        \n",
    "        # Get the cumulative score        \n",
    "        for tag, series in hist.items():\n",
    "            if tag not in finalHisto:\n",
    "                finalHisto[tag] = [0,0,0,0,0,0,0,0]\n",
    "\n",
    "            finalHisto[tag] = np.add(finalHisto[tag], series)\n",
    "    \n",
    "    return finalHisto\n",
    "    \n",
    "# getHisto(0, True)\n"
   ]
  },
  {
   "cell_type": "markdown",
   "metadata": {},
   "source": [
    "### Plotting the results"
   ]
  },
  {
   "cell_type": "markdown",
   "metadata": {},
   "source": [
    "plot the result of the data, with the following parameters: column, isHighColl, tag"
   ]
  },
  {
   "cell_type": "code",
   "execution_count": 60,
   "metadata": {
    "collapsed": true
   },
   "outputs": [],
   "source": [
    "import matplotlib.pyplot as plt\n",
    "\n",
    "column = 0\n",
    "isHighColl = True\n",
    "tag = 'G'\n",
    "\n",
    "def plot(col, isHighColl, tag):\n",
    "    hist = getHisto(column, isHighColl)\n",
    "    y = hist[tag]\n",
    "    x = ['series a', 'series b', 'series c', 'series d', 'series w', 'series x', 'series y', 'series z']\n",
    "\n",
    "    plt.figure(figsize=(10,10))\n",
    "    plt.xlabel('Series')\n",
    "    plt.ylabel('Frequency')\n",
    "    plt.title('Frequency of different series for tag=' + tag + \" and column=\" + str(column))\n",
    "    plt.bar(x,y)\n",
    "    plt.show()"
   ]
  },
  {
   "cell_type": "markdown",
   "metadata": {},
   "source": [
    "### Calculating accuracy in percentages"
   ]
  },
  {
   "cell_type": "markdown",
   "metadata": {},
   "source": [
    "This will keep track of the total number of observations (while discarding all the blank space), so that the accuracy of a given series can be calculated in percentage"
   ]
  },
  {
   "cell_type": "code",
   "execution_count": 61,
   "metadata": {},
   "outputs": [
    {
     "data": {
      "text/plain": [
       "{'0': [0, 0, 0, 1, 0, 0, 0, 1],\n",
       " 'A': [1, 1, 1, 1, 0, 1, 1, 0],\n",
       " 'B': [0, 0, 1, 1, 1, 0, 1, 0],\n",
       " 'C': [1, 1, 1, 1, 1, 1, 1, 0],\n",
       " 'F': [1, 1, 1, 1, 1, 0, 1, 1],\n",
       " 'G': [1, 1, 1, 1, 1, 1, 1, 1],\n",
       " 'I': [0, 1, 1, 1, 0, 1, 0, 0],\n",
       " 'T': [0, 1, 1, 1, 1, 1, 1, 1]}"
      ]
     },
     "execution_count": 61,
     "metadata": {},
     "output_type": "execute_result"
    }
   ],
   "source": [
    "def getTableTotal(tableRow, tableCol):\n",
    "    table = getTable(tableRow, tableCol)\n",
    "    \n",
    "    histo = {}\n",
    "    \n",
    "    # Go column by column, starting from the column with tag \"0\"\n",
    "    for i in range(1, 9):\n",
    "        \n",
    "        # This means that we do not have any more tags left  \n",
    "        try:\n",
    "            if str(type(table.iloc[3,i])) == \"<type 'float'>\":\n",
    "                break\n",
    "        except:\n",
    "            print \"i=\" + str(i)\n",
    "        \n",
    "        if str(table.iloc[3,i]) == \"Tag on byte\":\n",
    "            continue\n",
    "            \n",
    "        correctCode = str(table.iloc[4,i])\n",
    "        tag = str(table.iloc[3,i])\n",
    "        histo[tag] = [0, 0, 0, 0, 0, 0, 0, 0]\n",
    "        \n",
    "        for j in range(5, 13):\n",
    "            if str(type(table.iloc[j,i])) == \"<type 'float'>\":\n",
    "                continue\n",
    "            if len(str(table.iloc[j,i])) != 8:\n",
    "                continue\n",
    "            histo[tag][j-5] += 1\n",
    "                \n",
    "    return histo\n",
    "getTableTotal(10,0)"
   ]
  },
  {
   "cell_type": "markdown",
   "metadata": {},
   "source": [
    "### Congregating the totals from all the tables"
   ]
  },
  {
   "cell_type": "code",
   "execution_count": 62,
   "metadata": {},
   "outputs": [
    {
     "data": {
      "text/plain": [
       "{'0': array([ 0,  0,  0, 16, 16, 15, 14, 16]),\n",
       " 'A': array([17, 17, 17, 17, 17, 16, 17, 17]),\n",
       " 'B': array([1, 2, 2, 1, 1, 1, 1, 1]),\n",
       " 'C': array([18, 17, 17, 17, 17, 18, 17, 16]),\n",
       " 'F': array([1, 1, 1, 1, 1, 1, 1, 1]),\n",
       " 'G': array([15, 15, 15, 15, 15, 12, 14, 14]),\n",
       " 'I': array([1, 0, 1, 1, 0, 0, 0, 0]),\n",
       " 'T': array([17, 16, 17, 17, 17, 17, 17, 17]),\n",
       " 'd': array([1, 1, 1, 1, 1, 1, 1, 1]),\n",
       " 'e': array([1, 1, 1, 1, 1, 1, 1, 1]),\n",
       " 'o': array([1, 1, 1, 1, 1, 1, 1, 1]),\n",
       " 't': array([1, 1, 1, 1, 1, 1, 1, 1])}"
      ]
     },
     "execution_count": 62,
     "metadata": {},
     "output_type": "execute_result"
    }
   ],
   "source": [
    "def getTotal(j, is_high_coll):\n",
    "    \n",
    "    # Tables are laid out in (40 x 7)\n",
    "    finalTotal = {}\n",
    "    \n",
    "    # If high-energy collision is needed, start from 0, otherwise 1   \n",
    "    start = 1\n",
    "    if(is_high_coll):\n",
    "        start = 0\n",
    "    \n",
    "    for i in range(start, 40, 2):\n",
    "        tot = getTableTotal(i,j)\n",
    "        \n",
    "        # Get the cumulative score        \n",
    "        for tag, series in tot.items():\n",
    "            if tag not in finalTotal:\n",
    "                finalTotal[tag] = [0,0,0,0,0,0,0,0]\n",
    "\n",
    "            finalTotal[tag] = np.add(finalTotal[tag], series)\n",
    "    \n",
    "    return finalTotal\n",
    "    \n",
    "getTotal(0, False)"
   ]
  },
  {
   "cell_type": "markdown",
   "metadata": {},
   "source": [
    "Calculating the percentage accuracy for a particular column, high/low energy collision, and tag"
   ]
  },
  {
   "cell_type": "code",
   "execution_count": 63,
   "metadata": {},
   "outputs": [
    {
     "name": "stdout",
     "output_type": "stream",
     "text": [
      "Correct: [ 0  0  0 13  1  0  5  2]\n",
      "Total: [ 0  0  0 16 16 15 14 16]\n"
     ]
    }
   ],
   "source": [
    "column = 0\n",
    "isHighColl = False\n",
    "tag = '0'\n",
    "\n",
    "finalHist = getHisto(column, isHighColl)[tag]\n",
    "finalTot = getTotal(column, isHighColl)[tag]\n",
    "\n",
    "print \"Correct: \" + str(finalHist)\n",
    "print \"Total: \" + str(finalTot)\n",
    "\n",
    "y = [0,0,0,0,0,0,0,0]\n",
    "for i in range(8):\n",
    "    if finalTot[i] != 0:\n",
    "        y[i] = (float(finalHist[i]) / finalTot[i]) * 100.0\n"
   ]
  },
  {
   "cell_type": "markdown",
   "metadata": {},
   "source": [
    "Plotting this data ..."
   ]
  },
  {
   "cell_type": "code",
   "execution_count": 64,
   "metadata": {},
   "outputs": [
    {
     "data": {
      "image/png": "[encoded data removed]",
      "text/plain": [
       "<matplotlib.figure.Figure at 0x116fa4950>"
      ]
     },
     "metadata": {},
     "output_type": "display_data"
    }
   ],
   "source": [
    "x = ['series a', 'series b', 'series c', 'series d', 'series w', 'series x', 'series y', 'series z']\n",
    "\n",
    "plt.figure(figsize=(10,10))\n",
    "plt.xlabel('Series:')\n",
    "plt.ylabel('Percentage correct:')\n",
    "plt.title('Percentage correctness of different series for tag=' + tag + \" and column=\" + str(column))\n",
    "plt.bar(x,y)\n",
    "plt.show()"
   ]
  },
  {
   "cell_type": "markdown",
   "metadata": {},
   "source": [
    "# Part 2"
   ]
  },
  {
   "cell_type": "markdown",
   "metadata": {
    "collapsed": true
   },
   "source": [
    "### Calculating the number of correct observations for a particular 8-bit sequence, a particular tag, and a particular series"
   ]
  },
  {
   "cell_type": "code",
   "execution_count": 65,
   "metadata": {},
   "outputs": [
    {
     "data": {
      "text/plain": [
       "{'01001111': {'0': array([0, 0, 0, 0, 0, 0, 0, 0])},\n",
       " '01100011': {'G': array([0, 1, 0, 0, 0, 0, 0, 0])},\n",
       " '01100101': {'C': array([0, 1, 0, 0, 0, 0, 0, 0])},\n",
       " '01110100': {'A': array([0, 1, 0, 0, 0, 0, 0, 0]),\n",
       "  'T': array([0, 0, 0, 0, 0, 0, 0, 0])}}"
      ]
     },
     "execution_count": 65,
     "metadata": {},
     "output_type": "execute_result"
    }
   ],
   "source": [
    "import binascii\n",
    "def getTableHistoPart2(tableRow, tableCol):\n",
    "    table = getTable(tableRow, tableCol)\n",
    "    \n",
    "    histo = {}\n",
    "    \n",
    "    # Go column by column, starting from the column with tag \"0\"\n",
    "    for i in range(1, 9):\n",
    "        \n",
    "        # This means that we do not have any more tags left  \n",
    "        try:\n",
    "            if str(type(table.iloc[3,i])) == \"<type 'float'>\":\n",
    "                break\n",
    "        except:\n",
    "            print \"i=\" + str(i)\n",
    "        \n",
    "        if str(table.iloc[3,i]) == \"Tag on byte\":\n",
    "            continue\n",
    "            \n",
    "        correctCode = str(table.iloc[4,i])\n",
    "#         correctCodeAscii = binascii.unhexlify('%x' % int(correctCode,2))\n",
    "        tag = str(table.iloc[3,i])\n",
    "        \n",
    "        if correctCode not in histo:\n",
    "            histo[correctCode] = {}\n",
    "            \n",
    "        histo[correctCode][tag] = np.array([0, 0, 0, 0, 0, 0, 0, 0])\n",
    "        \n",
    "        for j in range(5, 13):\n",
    "            if correctCode == table.iloc[j, i]:\n",
    "                histo[correctCode][tag][j-5] += 1\n",
    "                \n",
    "    return histo\n",
    "getTableHistoPart2(0,4)"
   ]
  },
  {
   "cell_type": "code",
   "execution_count": 66,
   "metadata": {},
   "outputs": [
    {
     "data": {
      "text/plain": [
       "{'01000011': {'0': array([0, 0, 0, 1, 0, 0, 0, 1])},\n",
       " '01100100': {'C': array([0, 1, 0, 0, 0, 0, 0, 0])},\n",
       " '01100101': {'T': array([0, 0, 0, 0, 0, 0, 1, 0])},\n",
       " '01101111': {'A': array([0, 1, 0, 1, 0, 0, 0, 0])}}"
      ]
     },
     "execution_count": 66,
     "metadata": {},
     "output_type": "execute_result"
    }
   ],
   "source": [
    "getTableHistoPart2(2,0)"
   ]
  },
  {
   "cell_type": "markdown",
   "metadata": {},
   "source": [
    "### Adding the histograms for all the tables ..."
   ]
  },
  {
   "cell_type": "code",
   "execution_count": 67,
   "metadata": {},
   "outputs": [
    {
     "data": {
      "text/plain": [
       "{'0': {'C': array([0, 0, 0, 0, 0, 0, 0, 0]),\n",
       "  't': array([0, 0, 0, 0, 0, 0, 0, 0])},\n",
       " '00100000': {'0': array([0, 0, 0, 0, 0, 0, 0, 0]),\n",
       "  'A': array([2, 2, 1, 1, 0, 0, 0, 0]),\n",
       "  'C': array([2, 2, 2, 2, 0, 0, 0, 0]),\n",
       "  'G': array([3, 3, 1, 3, 0, 0, 0, 0]),\n",
       "  'T': array([1, 2, 2, 0, 0, 1, 2, 0])},\n",
       " '00101100': {'0': array([0, 0, 0, 0, 0, 0, 0, 0]),\n",
       "  'A': array([1, 1, 0, 0, 0, 0, 0, 0])},\n",
       " '00101110': {'A': array([0, 1, 0, 0, 0, 0, 0, 0]),\n",
       "  'C': array([0, 0, 0, 0, 0, 0, 0, 0]),\n",
       "  'T': array([0, 0, 0, 0, 0, 0, 1, 0])},\n",
       " '01000010': {'0': array([0, 0, 0, 1, 0, 0, 2, 0])},\n",
       " '01000011': {'0': array([0, 0, 0, 1, 0, 0, 0, 1])},\n",
       " '01000100': {'0': array([0, 0, 0, 1, 0, 0, 0, 0])},\n",
       " '01001111': {'0': array([0, 0, 0, 1, 0, 0, 1, 1])},\n",
       " '01010010': {'0': array([0, 0, 0, 0, 0, 0, 0, 0])},\n",
       " '01010011': {'0': array([0, 0, 0, 0, 0, 0, 0, 1])},\n",
       " '01100001': {'A': array([0, 1, 0, 0, 0, 0, 0, 0]),\n",
       "  'T': array([0, 0, 0, 0, 0, 1, 1, 1])},\n",
       " '01100011': {'C': array([0, 2, 0, 0, 0, 0, 0, 0]),\n",
       "  'G': array([0, 1, 0, 0, 0, 0, 0, 0])},\n",
       " '01100100': {'C': array([0, 1, 0, 0, 0, 0, 0, 0]),\n",
       "  'T': array([0, 1, 0, 0, 0, 0, 1, 0])},\n",
       " '01100101': {'0': array([0, 0, 0, 1, 0, 0, 0, 0]),\n",
       "  'A': array([0, 2, 1, 0, 0, 0, 0, 0]),\n",
       "  'C': array([0, 2, 0, 0, 0, 0, 0, 0]),\n",
       "  'F': array([0, 1, 0, 0, 0, 0, 0, 0]),\n",
       "  'G': array([0, 5, 0, 0, 0, 0, 0, 0]),\n",
       "  'T': array([0, 4, 0, 0, 0, 0, 5, 0])},\n",
       " '01100110': {'A': array([0, 1, 0, 0, 0, 0, 0, 0])},\n",
       " '01100111': {'A': array([0, 1, 0, 0, 0, 0, 0, 0])},\n",
       " '01101001': {'B': array([0, 1, 0, 0, 0, 0, 0, 0]),\n",
       "  'C': array([0, 2, 0, 0, 0, 0, 0, 0]),\n",
       "  'G': array([0, 2, 0, 1, 0, 0, 0, 0])},\n",
       " '01101101': {'0': array([0, 0, 0, 1, 0, 0, 0, 0])},\n",
       " '01101110': {'0': array([0, 0, 0, 3, 0, 0, 0, 0]),\n",
       "  'A': array([1, 2, 0, 0, 0, 0, 0, 0]),\n",
       "  'C': array([0, 1, 0, 0, 0, 0, 0, 0]),\n",
       "  'G': array([0, 1, 0, 0, 0, 0, 0, 0])},\n",
       " '01101111': {'0': array([0, 0, 0, 1, 0, 0, 0, 0]),\n",
       "  'A': array([0, 1, 0, 1, 0, 0, 0, 0]),\n",
       "  'C': array([0, 1, 0, 1, 0, 0, 0, 0])},\n",
       " '01110000': {'G': array([0, 1, 0, 0, 0, 0, 0, 0])},\n",
       " '01110001': {'I': array([0, 1, 0, 0, 0, 0, 0, 0])},\n",
       " '01110010': {'A': array([0, 1, 0, 0, 0, 0, 0, 0]),\n",
       "  'C': array([2, 3, 0, 0, 0, 0, 0, 0]),\n",
       "  'T': array([2, 2, 0, 0, 0, 0, 2, 0])},\n",
       " '01110011': {'0': array([0, 0, 0, 1, 1, 0, 1, 0]),\n",
       "  'C': array([0, 1, 0, 0, 0, 0, 0, 0]),\n",
       "  'G': array([0, 1, 0, 0, 0, 0, 0, 0]),\n",
       "  'T': array([0, 0, 0, 0, 0, 1, 1, 1])},\n",
       " '01110100': {'A': array([0, 3, 0, 0, 0, 0, 0, 0]),\n",
       "  'C': array([0, 1, 0, 0, 0, 0, 0, 0]),\n",
       "  'T': array([1, 2, 0, 0, 0, 0, 2, 0])},\n",
       " '01110101': {'B': array([0, 0, 0, 0, 0, 0, 0, 0]),\n",
       "  'G': array([0, 1, 0, 0, 0, 0, 0, 0])},\n",
       " '01111001': {'A': array([0, 1, 0, 0, 0, 0, 0, 0]),\n",
       "  'T': array([0, 0, 0, 0, 0, 0, 0, 0])},\n",
       " '11101001': {'0': array([0, 0, 0, 1, 0, 0, 0, 0])},\n",
       " 'A': {'d': array([0, 0, 0, 0, 0, 0, 0, 0]),\n",
       "  't': array([0, 0, 0, 0, 0, 0, 0, 0])},\n",
       " 'C': {'o': array([0, 0, 0, 0, 0, 0, 0, 0]),\n",
       "  't': array([0, 0, 0, 0, 0, 0, 0, 0])},\n",
       " 'T': {'e': array([0, 0, 0, 0, 0, 0, 0, 0]),\n",
       "  't': array([0, 0, 0, 0, 0, 0, 0, 0])}}"
      ]
     },
     "execution_count": 67,
     "metadata": {},
     "output_type": "execute_result"
    }
   ],
   "source": [
    "import binascii\n",
    "def getHistoPart2(j, is_high_coll):\n",
    "    \n",
    "    # Tables are laid out in (40 x 7)\n",
    "    finalHisto = {}\n",
    "    \n",
    "    # If high-energy collision is needed, start from 0, otherwise 1   \n",
    "    start = 1\n",
    "    if(is_high_coll):\n",
    "        start = 0\n",
    "    \n",
    "    for i in range(start, 40, 2):\n",
    "        hist = getTableHistoPart2(i,j)\n",
    "        \n",
    "        # Get the cumulative score        \n",
    "        for seq, tag_ser in hist.items():\n",
    "            \n",
    "            # in case the sequence is not present, just add the tag_ser dictionary corresponding to that sequence in the final histo and continue to the next sequence\n",
    "            if seq not in finalHisto:\n",
    "                finalHisto[seq] = tag_ser\n",
    "                continue\n",
    "            \n",
    "            # now we know that the sequence is present.\n",
    "            for tag, ser in tag_ser.items():\n",
    "                \n",
    "                # if tag is not present in final histo\n",
    "                if tag not in finalHisto[seq]:\n",
    "                    finalHisto[seq][tag] = ser\n",
    "                    continue\n",
    "                    \n",
    "                # now we know that the tag is present in that sequence\n",
    "                finalHisto[seq][tag] = np.add(finalHisto[seq][tag], ser)\n",
    "            \n",
    "            \n",
    "                \n",
    "    \n",
    "    return finalHisto\n",
    "    \n",
    "getHistoPart2(0, True)"
   ]
  },
  {
   "cell_type": "code",
   "execution_count": 68,
   "metadata": {},
   "outputs": [
    {
     "data": {
      "image/png": "[encoded data removed]",
      "text/plain": [
       "<matplotlib.figure.Figure at 0x118751710>"
      ]
     },
     "metadata": {},
     "output_type": "display_data"
    }
   ],
   "source": [
    "def plotSeqOnTag_Series(column, isHighColl, sequence):\n",
    "\n",
    "    hist = getHistoPart2(column, isHighColl)\n",
    "\n",
    "    # This fetches the dictionary for a particular sequence\n",
    "    if sequence not in hist:\n",
    "        print \"Sorry the sequence is not in the table!\"\n",
    "        return\n",
    "    \n",
    "    hist = hist[sequence]\n",
    "    \n",
    "    x = []\n",
    "    y = []\n",
    "    \n",
    "    serDict = {\n",
    "        0: 'a',\n",
    "        1: 'b',\n",
    "        2: 'c',\n",
    "        3: 'd',\n",
    "        4: 'w',\n",
    "        5: 'x',\n",
    "        6: 'y',\n",
    "        7: 'z'\n",
    "    }\n",
    "    \n",
    "    for tag, ser in hist.items():\n",
    "        for i in range(8):\n",
    "            x.append('('+ tag + ',' + serDict[i] +')')\n",
    "            y.append(ser[i])\n",
    "            \n",
    "    plt.figure(figsize=(20,20))\n",
    "    plt.xlabel('(Tag, Series):')\n",
    "    plt.ylabel('Number of correct observations:')\n",
    "    plt.title('Number of correct observations for sequence=' + sequence + \" and column=\" + str(column))\n",
    "    plt.bar(x,y)\n",
    "    plt.show()\n",
    "    \n",
    "\n",
    "plotSeqOnTag_Series(0, True, '01000010')       \n",
    "    "
   ]
  },
  {
   "cell_type": "code",
   "execution_count": 69,
   "metadata": {},
   "outputs": [
    {
     "data": {
      "text/plain": [
       "{'0': array([0, 0, 0, 8, 1, 0, 2, 0]),\n",
       " 'A': array([ 3, 16,  3,  3,  0,  0,  0,  0]),\n",
       " 'B': array([0, 1, 0, 0, 0, 0, 0, 0]),\n",
       " 'C': array([ 3, 16,  2,  2,  0,  0,  1,  0]),\n",
       " 'F': array([0, 0, 0, 0, 0, 0, 0, 0]),\n",
       " 'G': array([ 3, 12,  0,  4,  0,  0,  0,  0]),\n",
       " 'I': array([0, 0, 0, 0, 0, 0, 0, 0]),\n",
       " 'T': array([ 4, 13,  2,  2,  0,  0, 16,  4]),\n",
       " 'd': array([0, 0, 0, 0, 0, 0, 0, 0]),\n",
       " 'e': array([0, 0, 0, 0, 0, 0, 0, 0]),\n",
       " 'o': array([0, 0, 0, 0, 0, 0, 0, 0]),\n",
       " 't': array([0, 0, 0, 0, 0, 0, 0, 0])}"
      ]
     },
     "execution_count": 69,
     "metadata": {},
     "output_type": "execute_result"
    }
   ],
   "source": [
    "# All the functions:\n",
    "getHisto(2, False) # Column, isHighCollision\n",
    "\n",
    "# Plots\n",
    "# plotSeqOnTag_Series(column, isHighColl, sequence)"
   ]
  },
  {
   "cell_type": "code",
   "execution_count": 70,
   "metadata": {
    "collapsed": true
   },
   "outputs": [],
   "source": [
    "def getHistoAllCols(is_high_coll):\n",
    "    \n",
    "    # Tables are laid out in (40 x 7)\n",
    "    finalHisto = {}\n",
    "    \n",
    "    # If high-energy collision is needed, start from 0, otherwise 1   \n",
    "    start = 1\n",
    "    if(is_high_coll):\n",
    "        start = 0\n",
    "    \n",
    "    for j in range(4):\n",
    "        for i in range(start, 40, 2):\n",
    "            hist = getTableHisto(i,j)\n",
    "\n",
    "            # Get the cumulative score        \n",
    "            for tag, series in hist.items():\n",
    "                if tag not in finalHisto:\n",
    "                    finalHisto[tag] = [0,0,0,0,0,0,0,0]\n",
    "\n",
    "                finalHisto[tag] = np.add(finalHisto[tag], series)\n",
    "    \n",
    "    return finalHisto"
   ]
  },
  {
   "cell_type": "code",
   "execution_count": 71,
   "metadata": {},
   "outputs": [
    {
     "data": {
      "text/plain": [
       "{'0': array([ 0,  0,  0, 45,  4,  0, 15,  6]),\n",
       " 'A': array([12, 66, 12,  8,  0,  4,  0,  0]),\n",
       " 'B': array([0, 6, 0, 0, 0, 0, 0, 0]),\n",
       " 'C': array([12, 62,  8,  8,  0,  0,  1,  0]),\n",
       " 'F': array([0, 2, 0, 1, 0, 0, 0, 0]),\n",
       " 'G': array([12, 57,  0, 16,  0,  0,  0,  0]),\n",
       " 'I': array([0, 0, 0, 0, 0, 0, 0, 0]),\n",
       " 'T': array([16, 46,  8,  5,  0,  8, 64, 17]),\n",
       " 'd': array([0, 0, 0, 0, 0, 0, 0, 0]),\n",
       " 'e': array([0, 0, 0, 0, 0, 0, 0, 0]),\n",
       " 'o': array([0, 0, 0, 0, 0, 0, 0, 0]),\n",
       " 't': array([0, 0, 0, 0, 0, 0, 0, 0])}"
      ]
     },
     "execution_count": 71,
     "metadata": {},
     "output_type": "execute_result"
    }
   ],
   "source": [
    "getHistoAllCols(False)"
   ]
  }
 ],
 "metadata": {
  "kernelspec": {
   "display_name": "Python 2",
   "language": "python",
   "name": "python2"
  },
  "language_info": {
   "codemirror_mode": {
    "name": "ipython",
    "version": 2
   },
   "file_extension": ".py",
   "mimetype": "text/x-python",
   "name": "python",
   "nbconvert_exporter": "python",
   "pygments_lexer": "ipython2",
   "version": "2.7.14"
  }
 },
 "nbformat": 4,
 "nbformat_minor": 2
}
